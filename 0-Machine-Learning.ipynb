{
 "nbformat": 4,
 "nbformat_minor": 2,
 "metadata": {
  "language_info": {
   "name": "python",
   "codemirror_mode": {
    "name": "ipython",
    "version": 3
   },
   "version": "3.7.3"
  },
  "orig_nbformat": 2,
  "file_extension": ".py",
  "mimetype": "text/x-python",
  "name": "python",
  "npconvert_exporter": "python",
  "pygments_lexer": "ipython3",
  "version": 3
 },
 "cells": [
  {
   "cell_type": "markdown",
   "execution_count": null,
   "metadata": {},
   "outputs": [],
   "source": [
    "# 基礎知識\n",
    "\n",
    "## 機械学習\n",
    "[Coursera Machine Learning (1): 機械学習とは？単回帰分析、最急降下法、目的関数 - Qiita](https://qiita.com/katsu1110/items/fac314996f34540da260)\n",
    "\n",
    "> 明示的なプログラミングをせず、コンピューターに学習能力を持たせる学問\n",
    ">> The field of study that gives computers the ability to learn without being explicitly programmed. (Arthur Samuel)\n",
    "\n",
    "### 機械学習の分類\n",
    "\n",
    "* 出力すべきものが予め決まっている --> Supervised\n",
    "* 　　　　　　　　　　決まっていない --> Unsupervised\n",
    "\n",
    "1. 教師あり学習(Supervised)\n",
    "    1. 分類(Classification)\n",
    "    2. 回帰(Regression)\n",
    "2. 教師なし学習(Unsupervised)\n",
    "    1. クラスター分析(Cluster Analysis)\n",
    "    2. 主成分分析(Principle Component Analysis)\n",
    "    3. ベクトル量子化(Vector Quantization)"
   ]
  },
  {
   "cell_type": "markdown",
   "execution_count": null,
   "metadata": {},
   "outputs": [],
   "source": [
    "## 仮説関数(Hypothesis Function)\n",
    "モデル（[数学的モデル](https://en.wikipedia.org/wiki/Mathematical_model)）のこと。\n",
    "数学的定式化がなされた物をいう。"
   ]
  },
  {
   "cell_type": "markdown",
   "execution_count": null,
   "metadata": {},
   "outputs": [],
   "source": [
    "## 目的関数(Objective Function)\n",
    "[目的関数、コスト関数、誤差関数、損失関数いろいろあるけど、なにが違うのかを検討 - Qiita](https://qiita.com/kakiuchis/items/5cfe52e6f75dd75f96e7)\n",
    "\n",
    "誤差(Error) / コスト(Cost) / 損失(Loss) 関数とも。\n",
    "\n",
    "モデル / 仮説関数 の良さをはかる指標だが、定義は様々。\n",
    "\n",
    "単に教師データへの適合度をはかる場合もあれば、正則化項（罰則化項）を設ける場合も。\n",
    "\n",
    "良さの定義は様々なので、目的によって使い分ける感じか。"
   ]
  },
  {
   "cell_type": "markdown",
   "execution_count": 2,
   "metadata": {},
   "outputs": [
    {
     "ename": "SyntaxError",
     "evalue": "invalid character in identifier (<ipython-input-2-7e3c4d0fc500>, line 2)",
     "output_type": "error",
     "traceback": [
      "\u001b[0;36m  File \u001b[0;32m\"<ipython-input-2-7e3c4d0fc500>\"\u001b[0;36m, line \u001b[0;32m2\u001b[0m\n\u001b[0;31m    データがモデルにフィットするように、モデルのパラメータを変化・適合させていく過程のこと。\u001b[0m\n\u001b[0m                                               ^\u001b[0m\n\u001b[0;31mSyntaxError\u001b[0m\u001b[0;31m:\u001b[0m invalid character in identifier\n"
     ]
    }
   ],
   "source": [
    "## 学習（最適化）\n",
    "データがモデルにフィットするように、モデルのパラメータを変化・適合させていく過程のこと。\n",
    "\n",
    "最適化として捉えることができる。\n",
    "\n",
    "[最適化アルゴリズムを評価するベンチマーク関数まとめ - Qiita](https://qiita.com/tomitomi3/items/d4318bf7afbc1c835dda)\n",
    "[勾配降下法の最適化アルゴリズムを概観する | POSTD](https://postd.cc/optimizing-gradient-descent)\n",
    "\n",
    "1. 勾配を使う / 勾配降下法 (Gradient Decent)\n",
    "    1. バッチ\n",
    "    1. 確率(SGD)\n",
    "    1. ミニバッチ\n",
    "2. 勾配を使わない\n",
    "    1. 遺伝的アルゴリズム(Genetic Algorithm)\n",
    "    1. 粒子群最適化(PSO)\n"
   ]
  }
 ]
}